{
 "cells": [
  {
   "cell_type": "code",
   "execution_count": 6,
   "metadata": {},
   "outputs": [],
   "source": [
    "import xml.etree.ElementTree as ET\n",
    "import gzip\n",
    "import numpy as np\n",
    "import pandas as pd\n",
    "import tarfile\n",
    "import collections\n",
    "from nltk.tokenize import RegexpTokenizer\n",
    "import nltk\n",
    "from nltk.corpus import stopwords\n",
    "from nltk.tokenize import word_tokenize\n",
    "from nltk.stem import *\n",
    "from nltk.stem.porter import *\n",
    "from sklearn.feature_extraction.text import CountVectorizer, TfidfVectorizer\n",
    "from sklearn.metrics import f1_score, precision_score, recall_score\n"
   ]
  },
  {
   "cell_type": "code",
   "execution_count": 7,
   "metadata": {},
   "outputs": [],
   "source": [
    "stop_words = set(stopwords.words('english'))\n",
    "stemmer = PorterStemmer()\n",
    "analyzer = CountVectorizer().build_analyzer()\n",
    "tokenizer = RegexpTokenizer(r'\\w+')\n",
    "\n",
    "# initializing list of reviews, list of labels (neg or pos) according to which folder the file is in\n",
    "list_of_reviews = []\n",
    "list_of_labels = []\n",
    "tar = tarfile.open(\"../Data/review_polarity.tar.gz\", \"r:gz\")\n",
    "counter = 0\n",
    "# looping through the folders of files\n",
    "for member in tar.getmembers():\n",
    "    # checking that it's a normal txt file\n",
    "    if member.isreg():\n",
    "        temp_array = (member.name).split(\"/\")\n",
    "        if (len(temp_array) >= 2):\n",
    "            # appending review string to list_of_reviews\n",
    "            # adding folder name from file path to list_of_labels\n",
    "            list_of_labels.append(temp_array[1])\n",
    "            f = tar.extractfile(member)\n",
    "            f_str = f.read().lower().decode(\"utf-8\")\n",
    "            list_of_reviews.append(f_str)\n",
    "\n",
    "        \n",
    "        "
   ]
  },
  {
   "cell_type": "code",
   "execution_count": 8,
   "metadata": {},
   "outputs": [],
   "source": [
    "## Using CountVectorizer"
   ]
  },
  {
   "cell_type": "code",
   "execution_count": 9,
   "metadata": {},
   "outputs": [
    {
     "name": "stdout",
     "output_type": "stream",
     "text": [
      "      00  000  0009f  007  00s  03  04  05  05425  10  ...  zukovsky  zulu   \n",
      "0      0    0      0    0    0   0   0   0      0  10  ...         0     0  \\\n",
      "1      0    0      0    0    0   0   0   0      0   0  ...         0     0   \n",
      "2      0    0      0    0    0   0   0   0      0   0  ...         0     0   \n",
      "3      0    0      0    0    0   0   0   0      0   0  ...         0     0   \n",
      "4      0    0      0    0    0   0   0   0      0   0  ...         0     0   \n",
      "...   ..  ...    ...  ...  ...  ..  ..  ..    ...  ..  ...       ...   ...   \n",
      "1995   0    0      0    0    0   0   0   0      0   1  ...         0     0   \n",
      "1996   0    0      0    0    0   0   0   0      0   0  ...         0     0   \n",
      "1997   0    0      0    0    0   0   0   0      0   1  ...         0     0   \n",
      "1998   0    0      0    0    0   0   0   0      0   1  ...         0     0   \n",
      "1999   0    0      0    0    0   0   0   0      0   0  ...         0     0   \n",
      "\n",
      "      zundel  zurg  zus  zweibel  zwick  zwigoff  zycie  zzzzzzz  \n",
      "0          0     0    0        0      0        0      0        0  \n",
      "1          0     0    0        0      0        0      0        0  \n",
      "2          0     0    0        0      0        0      0        0  \n",
      "3          0     0    0        0      0        0      0        0  \n",
      "4          0     0    0        0      0        0      0        0  \n",
      "...      ...   ...  ...      ...    ...      ...    ...      ...  \n",
      "1995       0     0    0        0      0        0      0        0  \n",
      "1996       0     0    0        0      0        0      0        0  \n",
      "1997       0     0    0        0      1        0      0        0  \n",
      "1998       0     0    0        0      0        0      0        0  \n",
      "1999       0     0    0        0      0        0      0        0  \n",
      "\n",
      "[2000 rows x 39659 columns]\n"
     ]
    }
   ],
   "source": [
    "CountVec = CountVectorizer(ngram_range=(1,1))\n",
    "X = CountVec.fit_transform(list_of_reviews)\n",
    "cv_dataframe=pd.DataFrame(X.toarray(), columns=CountVec.get_feature_names_out())\n",
    "print(cv_dataframe)"
   ]
  },
  {
   "cell_type": "code",
   "execution_count": 15,
   "metadata": {},
   "outputs": [],
   "source": [
    "# Function borrowed from TA demo to take as input training and testing vectors and labels\n",
    "def buildClassifiers(clf, X_train, X_test, y_train, y_test):\n",
    "    clf.fit(X_train, y_train)\n",
    "    y_pred = clf.predict(X_test)\n",
    "\n",
    "    f1 = f1_score(y_test, y_pred, average=\"macro\", zero_division=0)\n",
    "    precision = precision_score(y_test, y_pred, average=\"macro\", zero_division=0)\n",
    "    recall = recall_score(y_test, y_pred, average=\"macro\", zero_division=0)\n",
    "\n",
    "    return f1, precision, recall\n",
    "\n",
    "\n",
    "\n"
   ]
  },
  {
   "cell_type": "code",
   "execution_count": 20,
   "metadata": {},
   "outputs": [
    {
     "name": "stdout",
     "output_type": "stream",
     "text": [
      "GAUSSIAN NAIVE BAYES: \n",
      "\tf1:  0.6552071781429579\n",
      "\tprecision:  0.6572483570824387\n",
      "\trecall:  0.6550913670565208\n",
      "\taccuracy:  0.658\n"
     ]
    }
   ],
   "source": [
    "########### GAUSSIAN NAIVE BAYES ###########\n",
    "\n",
    "y = list_of_labels\n",
    "\n",
    "# split train and test data\n",
    "from sklearn.model_selection import train_test_split\n",
    "X_train, X_test, y_train, y_test = train_test_split(X.toarray(), y)\n",
    "\n",
    "# Naive Bayes \n",
    "from sklearn.naive_bayes import GaussianNB\n",
    "classifier = GaussianNB()\n",
    "classifier.fit(X_train, y_train)\n",
    "\n",
    "# Predict Class\n",
    "y_pred = classifier.predict(X_test)\n",
    "\n",
    "# Accuracy \n",
    "from sklearn.metrics import accuracy_score\n",
    "accuracy = accuracy_score(y_test, y_pred)\n",
    "\n",
    "# Calculating and printing f1, precision, recall, accuracy \n",
    "f1, precision, recall = buildClassifiers(GaussianNB(), X_train, X_test, y_train, y_test )\n",
    "print(\"GAUSSIAN NAIVE BAYES: \")\n",
    "print(\"\\tf1: \", f1)\n",
    "print(\"\\tprecision: \", precision)\n",
    "print(\"\\trecall: \", recall)\n",
    "print(\"\\taccuracy: \", accuracy)"
   ]
  },
  {
   "cell_type": "code",
   "execution_count": null,
   "metadata": {},
   "outputs": [],
   "source": []
  },
  {
   "cell_type": "code",
   "execution_count": null,
   "metadata": {},
   "outputs": [],
   "source": []
  }
 ],
 "metadata": {
  "kernelspec": {
   "display_name": "Python 3 (ipykernel)",
   "language": "python",
   "name": "python3"
  },
  "language_info": {
   "codemirror_mode": {
    "name": "ipython",
    "version": 3
   },
   "file_extension": ".py",
   "mimetype": "text/x-python",
   "name": "python",
   "nbconvert_exporter": "python",
   "pygments_lexer": "ipython3",
   "version": "3.10.8"
  }
 },
 "nbformat": 4,
 "nbformat_minor": 2
}
